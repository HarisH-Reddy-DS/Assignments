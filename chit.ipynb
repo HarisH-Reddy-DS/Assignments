{
 "cells": [
  {
   "cell_type": "code",
   "execution_count": 14,
   "metadata": {},
   "outputs": [],
   "source": [
    "import numpy as np\n",
    "import pandas as pd\n",
    "import matplotlib.pyplot as plt\n",
    "import seaborn as sns"
   ]
  },
  {
   "cell_type": "code",
   "execution_count": 10,
   "metadata": {},
   "outputs": [
    {
     "data": {
      "text/html": [
       "<div>\n",
       "<style scoped>\n",
       "    .dataframe tbody tr th:only-of-type {\n",
       "        vertical-align: middle;\n",
       "    }\n",
       "\n",
       "    .dataframe tbody tr th {\n",
       "        vertical-align: top;\n",
       "    }\n",
       "\n",
       "    .dataframe thead th {\n",
       "        text-align: right;\n",
       "    }\n",
       "</style>\n",
       "<table border=\"1\" class=\"dataframe\">\n",
       "  <thead>\n",
       "    <tr style=\"text-align: right;\">\n",
       "      <th></th>\n",
       "      <th>Month</th>\n",
       "      <th>Contribution</th>\n",
       "      <th>Amount won by the bidder</th>\n",
       "      <th>Chit fund organizer commission</th>\n",
       "      <th>Net amount recd by Bid winner</th>\n",
       "      <th>Amount returned to everyone in the group</th>\n",
       "    </tr>\n",
       "  </thead>\n",
       "  <tbody>\n",
       "    <tr>\n",
       "      <td>0</td>\n",
       "      <td>1</td>\n",
       "      <td>2000</td>\n",
       "      <td>40000</td>\n",
       "      <td>2500</td>\n",
       "      <td>37500</td>\n",
       "      <td>400</td>\n",
       "    </tr>\n",
       "    <tr>\n",
       "      <td>1</td>\n",
       "      <td>2</td>\n",
       "      <td>2000</td>\n",
       "      <td>42000</td>\n",
       "      <td>2500</td>\n",
       "      <td>39500</td>\n",
       "      <td>320</td>\n",
       "    </tr>\n",
       "    <tr>\n",
       "      <td>2</td>\n",
       "      <td>3</td>\n",
       "      <td>2000</td>\n",
       "      <td>45000</td>\n",
       "      <td>2500</td>\n",
       "      <td>42500</td>\n",
       "      <td>200</td>\n",
       "    </tr>\n",
       "    <tr>\n",
       "      <td>3</td>\n",
       "      <td>4</td>\n",
       "      <td>2000</td>\n",
       "      <td>48000</td>\n",
       "      <td>2500</td>\n",
       "      <td>45500</td>\n",
       "      <td>80</td>\n",
       "    </tr>\n",
       "    <tr>\n",
       "      <td>4</td>\n",
       "      <td>5</td>\n",
       "      <td>2000</td>\n",
       "      <td>40000</td>\n",
       "      <td>2500</td>\n",
       "      <td>37500</td>\n",
       "      <td>400</td>\n",
       "    </tr>\n",
       "  </tbody>\n",
       "</table>\n",
       "</div>"
      ],
      "text/plain": [
       "   Month  Contribution  Amount won by the bidder  \\\n",
       "0      1          2000                     40000   \n",
       "1      2          2000                     42000   \n",
       "2      3          2000                     45000   \n",
       "3      4          2000                     48000   \n",
       "4      5          2000                     40000   \n",
       "\n",
       "   Chit fund organizer commission  Net amount recd by Bid winner  \\\n",
       "0                            2500                          37500   \n",
       "1                            2500                          39500   \n",
       "2                            2500                          42500   \n",
       "3                            2500                          45500   \n",
       "4                            2500                          37500   \n",
       "\n",
       "   Amount returned to everyone in the group  \n",
       "0                                       400  \n",
       "1                                       320  \n",
       "2                                       200  \n",
       "3                                        80  \n",
       "4                                       400  "
      ]
     },
     "execution_count": 10,
     "metadata": {},
     "output_type": "execute_result"
    }
   ],
   "source": [
    "data = pd.read_excel(\"C:\\\\Users\\\\user\\\\ML\\\\chit fund exercise.xlsx\")\n",
    "data.head()"
   ]
  },
  {
   "cell_type": "code",
   "execution_count": 12,
   "metadata": {},
   "outputs": [
    {
     "name": "stdout",
     "output_type": "stream",
     "text": [
      "RowsXcolumns (25, 6)\n",
      "No.of Observations 150\n"
     ]
    }
   ],
   "source": [
    "print(\"RowsXcolumns\",data.shape)\n",
    "print(\"No.of Observations\",data.size)"
   ]
  },
  {
   "cell_type": "code",
   "execution_count": 13,
   "metadata": {},
   "outputs": [
    {
     "data": {
      "text/html": [
       "<div>\n",
       "<style scoped>\n",
       "    .dataframe tbody tr th:only-of-type {\n",
       "        vertical-align: middle;\n",
       "    }\n",
       "\n",
       "    .dataframe tbody tr th {\n",
       "        vertical-align: top;\n",
       "    }\n",
       "\n",
       "    .dataframe thead th {\n",
       "        text-align: right;\n",
       "    }\n",
       "</style>\n",
       "<table border=\"1\" class=\"dataframe\">\n",
       "  <thead>\n",
       "    <tr style=\"text-align: right;\">\n",
       "      <th></th>\n",
       "      <th>Month</th>\n",
       "      <th>Contribution</th>\n",
       "      <th>Amount won by the bidder</th>\n",
       "      <th>Chit fund organizer commission</th>\n",
       "      <th>Net amount recd by Bid winner</th>\n",
       "      <th>Amount returned to everyone in the group</th>\n",
       "    </tr>\n",
       "  </thead>\n",
       "  <tbody>\n",
       "    <tr>\n",
       "      <td>count</td>\n",
       "      <td>25.000000</td>\n",
       "      <td>25.0</td>\n",
       "      <td>25.000000</td>\n",
       "      <td>25.0</td>\n",
       "      <td>25.000000</td>\n",
       "      <td>25.000000</td>\n",
       "    </tr>\n",
       "    <tr>\n",
       "      <td>mean</td>\n",
       "      <td>13.000000</td>\n",
       "      <td>2000.0</td>\n",
       "      <td>43800.000000</td>\n",
       "      <td>2500.0</td>\n",
       "      <td>41300.000000</td>\n",
       "      <td>248.000000</td>\n",
       "    </tr>\n",
       "    <tr>\n",
       "      <td>std</td>\n",
       "      <td>7.359801</td>\n",
       "      <td>0.0</td>\n",
       "      <td>2857.738033</td>\n",
       "      <td>0.0</td>\n",
       "      <td>2857.738033</td>\n",
       "      <td>114.309521</td>\n",
       "    </tr>\n",
       "    <tr>\n",
       "      <td>min</td>\n",
       "      <td>1.000000</td>\n",
       "      <td>2000.0</td>\n",
       "      <td>40000.000000</td>\n",
       "      <td>2500.0</td>\n",
       "      <td>37500.000000</td>\n",
       "      <td>0.000000</td>\n",
       "    </tr>\n",
       "    <tr>\n",
       "      <td>25%</td>\n",
       "      <td>7.000000</td>\n",
       "      <td>2000.0</td>\n",
       "      <td>42000.000000</td>\n",
       "      <td>2500.0</td>\n",
       "      <td>39500.000000</td>\n",
       "      <td>200.000000</td>\n",
       "    </tr>\n",
       "    <tr>\n",
       "      <td>50%</td>\n",
       "      <td>13.000000</td>\n",
       "      <td>2000.0</td>\n",
       "      <td>43000.000000</td>\n",
       "      <td>2500.0</td>\n",
       "      <td>40500.000000</td>\n",
       "      <td>280.000000</td>\n",
       "    </tr>\n",
       "    <tr>\n",
       "      <td>75%</td>\n",
       "      <td>19.000000</td>\n",
       "      <td>2000.0</td>\n",
       "      <td>45000.000000</td>\n",
       "      <td>2500.0</td>\n",
       "      <td>42500.000000</td>\n",
       "      <td>320.000000</td>\n",
       "    </tr>\n",
       "    <tr>\n",
       "      <td>max</td>\n",
       "      <td>25.000000</td>\n",
       "      <td>2000.0</td>\n",
       "      <td>50000.000000</td>\n",
       "      <td>2500.0</td>\n",
       "      <td>47500.000000</td>\n",
       "      <td>400.000000</td>\n",
       "    </tr>\n",
       "  </tbody>\n",
       "</table>\n",
       "</div>"
      ],
      "text/plain": [
       "           Month  Contribution  Amount won by the bidder  \\\n",
       "count  25.000000          25.0                 25.000000   \n",
       "mean   13.000000        2000.0              43800.000000   \n",
       "std     7.359801           0.0               2857.738033   \n",
       "min     1.000000        2000.0              40000.000000   \n",
       "25%     7.000000        2000.0              42000.000000   \n",
       "50%    13.000000        2000.0              43000.000000   \n",
       "75%    19.000000        2000.0              45000.000000   \n",
       "max    25.000000        2000.0              50000.000000   \n",
       "\n",
       "       Chit fund organizer commission  Net amount recd by Bid winner  \\\n",
       "count                            25.0                      25.000000   \n",
       "mean                           2500.0                   41300.000000   \n",
       "std                               0.0                    2857.738033   \n",
       "min                            2500.0                   37500.000000   \n",
       "25%                            2500.0                   39500.000000   \n",
       "50%                            2500.0                   40500.000000   \n",
       "75%                            2500.0                   42500.000000   \n",
       "max                            2500.0                   47500.000000   \n",
       "\n",
       "       Amount returned to everyone in the group  \n",
       "count                                 25.000000  \n",
       "mean                                 248.000000  \n",
       "std                                  114.309521  \n",
       "min                                    0.000000  \n",
       "25%                                  200.000000  \n",
       "50%                                  280.000000  \n",
       "75%                                  320.000000  \n",
       "max                                  400.000000  "
      ]
     },
     "execution_count": 13,
     "metadata": {},
     "output_type": "execute_result"
    }
   ],
   "source": [
    "data.describe()"
   ]
  },
  {
   "cell_type": "markdown",
   "metadata": {},
   "source": [
    "<font color=green>Each month everyone contribute Rs 2000 each.\n",
    "    Total amount contributed by each member = Sum of (Contribution of every month(2000) - Amount returned) for 25 months<font>\n"
   ]
  },
  {
   "cell_type": "code",
   "execution_count": 31,
   "metadata": {},
   "outputs": [
    {
     "name": "stdout",
     "output_type": "stream",
     "text": [
      "Total contibution in every month by members 50000\n"
     ]
    }
   ],
   "source": [
    "print(\"Total contibution in every month by members\",data[\"Contribution\"].sum())\n"
   ]
  },
  {
   "cell_type": "markdown",
   "metadata": {},
   "source": [
    "<font color=blue>End of the month, the person who bids the lowest for the corpus, gets his bid.\n",
    "    The group organizer gets paid a fixed commission of Rs 2500 each month (5% of 25*2000).\n",
    "    It is deducted from the bid winner's corpus.  The remaining amount is distributed among all the 25 customers equally.<font>"
   ]
  },
  {
   "cell_type": "code",
   "execution_count": 26,
   "metadata": {},
   "outputs": [
    {
     "name": "stdout",
     "output_type": "stream",
     "text": [
      "Total Chit fund organizer commission after 25 months: 62500\n"
     ]
    }
   ],
   "source": [
    "print(\"Total Chit fund organizer commission after 25 months:\", data[\"Chit fund organizer commission\"].sum())"
   ]
  },
  {
   "cell_type": "code",
   "execution_count": 18,
   "metadata": {},
   "outputs": [
    {
     "data": {
      "text/html": [
       "<div>\n",
       "<style scoped>\n",
       "    .dataframe tbody tr th:only-of-type {\n",
       "        vertical-align: middle;\n",
       "    }\n",
       "\n",
       "    .dataframe tbody tr th {\n",
       "        vertical-align: top;\n",
       "    }\n",
       "\n",
       "    .dataframe thead th {\n",
       "        text-align: right;\n",
       "    }\n",
       "</style>\n",
       "<table border=\"1\" class=\"dataframe\">\n",
       "  <thead>\n",
       "    <tr style=\"text-align: right;\">\n",
       "      <th></th>\n",
       "      <th>Month</th>\n",
       "      <th>Contribution</th>\n",
       "      <th>Amount won by the bidder</th>\n",
       "      <th>Chit fund organizer commission</th>\n",
       "      <th>Net amount recd by Bid winner</th>\n",
       "      <th>Amount returned to everyone in the group</th>\n",
       "      <th>Actual Contribution</th>\n",
       "    </tr>\n",
       "  </thead>\n",
       "  <tbody>\n",
       "    <tr>\n",
       "      <td>0</td>\n",
       "      <td>1</td>\n",
       "      <td>2000</td>\n",
       "      <td>40000</td>\n",
       "      <td>2500</td>\n",
       "      <td>37500</td>\n",
       "      <td>400</td>\n",
       "      <td>1600</td>\n",
       "    </tr>\n",
       "    <tr>\n",
       "      <td>1</td>\n",
       "      <td>2</td>\n",
       "      <td>2000</td>\n",
       "      <td>42000</td>\n",
       "      <td>2500</td>\n",
       "      <td>39500</td>\n",
       "      <td>320</td>\n",
       "      <td>1680</td>\n",
       "    </tr>\n",
       "    <tr>\n",
       "      <td>2</td>\n",
       "      <td>3</td>\n",
       "      <td>2000</td>\n",
       "      <td>45000</td>\n",
       "      <td>2500</td>\n",
       "      <td>42500</td>\n",
       "      <td>200</td>\n",
       "      <td>1800</td>\n",
       "    </tr>\n",
       "    <tr>\n",
       "      <td>3</td>\n",
       "      <td>4</td>\n",
       "      <td>2000</td>\n",
       "      <td>48000</td>\n",
       "      <td>2500</td>\n",
       "      <td>45500</td>\n",
       "      <td>80</td>\n",
       "      <td>1920</td>\n",
       "    </tr>\n",
       "    <tr>\n",
       "      <td>4</td>\n",
       "      <td>5</td>\n",
       "      <td>2000</td>\n",
       "      <td>40000</td>\n",
       "      <td>2500</td>\n",
       "      <td>37500</td>\n",
       "      <td>400</td>\n",
       "      <td>1600</td>\n",
       "    </tr>\n",
       "  </tbody>\n",
       "</table>\n",
       "</div>"
      ],
      "text/plain": [
       "   Month  Contribution  Amount won by the bidder  \\\n",
       "0      1          2000                     40000   \n",
       "1      2          2000                     42000   \n",
       "2      3          2000                     45000   \n",
       "3      4          2000                     48000   \n",
       "4      5          2000                     40000   \n",
       "\n",
       "   Chit fund organizer commission  Net amount recd by Bid winner  \\\n",
       "0                            2500                          37500   \n",
       "1                            2500                          39500   \n",
       "2                            2500                          42500   \n",
       "3                            2500                          45500   \n",
       "4                            2500                          37500   \n",
       "\n",
       "   Amount returned to everyone in the group  Actual Contribution  \n",
       "0                                       400                 1600  \n",
       "1                                       320                 1680  \n",
       "2                                       200                 1800  \n",
       "3                                        80                 1920  \n",
       "4                                       400                 1600  "
      ]
     },
     "execution_count": 18,
     "metadata": {},
     "output_type": "execute_result"
    }
   ],
   "source": [
    "data[\"Actual Contribution\"] = data[\"Contribution\"] - data[\"Amount returned to everyone in the group\"]\n",
    "data.head()"
   ]
  },
  {
   "cell_type": "code",
   "execution_count": 32,
   "metadata": {},
   "outputs": [
    {
     "data": {
      "text/plain": [
       "43800"
      ]
     },
     "execution_count": 32,
     "metadata": {},
     "output_type": "execute_result"
    }
   ],
   "source": [
    "total = data[\"Actual Contribution\"].sum()\n",
    "total"
   ]
  },
  {
   "cell_type": "markdown",
   "metadata": {},
   "source": [
    "<font color=darkgreen>Profit Obtained by the bid winner is<font>\n",
    "    \n",
    "    \n",
    "<font color=purple>Return = Net amount received by a member - total amount contributed by a member<font>"
   ]
  },
  {
   "cell_type": "code",
   "execution_count": 33,
   "metadata": {},
   "outputs": [
    {
     "data": {
      "text/html": [
       "<div>\n",
       "<style scoped>\n",
       "    .dataframe tbody tr th:only-of-type {\n",
       "        vertical-align: middle;\n",
       "    }\n",
       "\n",
       "    .dataframe tbody tr th {\n",
       "        vertical-align: top;\n",
       "    }\n",
       "\n",
       "    .dataframe thead th {\n",
       "        text-align: right;\n",
       "    }\n",
       "</style>\n",
       "<table border=\"1\" class=\"dataframe\">\n",
       "  <thead>\n",
       "    <tr style=\"text-align: right;\">\n",
       "      <th></th>\n",
       "      <th>Month</th>\n",
       "      <th>Contribution</th>\n",
       "      <th>Amount won by the bidder</th>\n",
       "      <th>Chit fund organizer commission</th>\n",
       "      <th>Net amount recd by Bid winner</th>\n",
       "      <th>Amount returned to everyone in the group</th>\n",
       "      <th>Actual Contribution</th>\n",
       "      <th>return</th>\n",
       "    </tr>\n",
       "  </thead>\n",
       "  <tbody>\n",
       "    <tr>\n",
       "      <td>0</td>\n",
       "      <td>1</td>\n",
       "      <td>2000</td>\n",
       "      <td>40000</td>\n",
       "      <td>2500</td>\n",
       "      <td>37500</td>\n",
       "      <td>400</td>\n",
       "      <td>1600</td>\n",
       "      <td>-6300</td>\n",
       "    </tr>\n",
       "    <tr>\n",
       "      <td>1</td>\n",
       "      <td>2</td>\n",
       "      <td>2000</td>\n",
       "      <td>42000</td>\n",
       "      <td>2500</td>\n",
       "      <td>39500</td>\n",
       "      <td>320</td>\n",
       "      <td>1680</td>\n",
       "      <td>-4300</td>\n",
       "    </tr>\n",
       "    <tr>\n",
       "      <td>2</td>\n",
       "      <td>3</td>\n",
       "      <td>2000</td>\n",
       "      <td>45000</td>\n",
       "      <td>2500</td>\n",
       "      <td>42500</td>\n",
       "      <td>200</td>\n",
       "      <td>1800</td>\n",
       "      <td>-1300</td>\n",
       "    </tr>\n",
       "    <tr>\n",
       "      <td>3</td>\n",
       "      <td>4</td>\n",
       "      <td>2000</td>\n",
       "      <td>48000</td>\n",
       "      <td>2500</td>\n",
       "      <td>45500</td>\n",
       "      <td>80</td>\n",
       "      <td>1920</td>\n",
       "      <td>1700</td>\n",
       "    </tr>\n",
       "    <tr>\n",
       "      <td>4</td>\n",
       "      <td>5</td>\n",
       "      <td>2000</td>\n",
       "      <td>40000</td>\n",
       "      <td>2500</td>\n",
       "      <td>37500</td>\n",
       "      <td>400</td>\n",
       "      <td>1600</td>\n",
       "      <td>-6300</td>\n",
       "    </tr>\n",
       "  </tbody>\n",
       "</table>\n",
       "</div>"
      ],
      "text/plain": [
       "   Month  Contribution  Amount won by the bidder  \\\n",
       "0      1          2000                     40000   \n",
       "1      2          2000                     42000   \n",
       "2      3          2000                     45000   \n",
       "3      4          2000                     48000   \n",
       "4      5          2000                     40000   \n",
       "\n",
       "   Chit fund organizer commission  Net amount recd by Bid winner  \\\n",
       "0                            2500                          37500   \n",
       "1                            2500                          39500   \n",
       "2                            2500                          42500   \n",
       "3                            2500                          45500   \n",
       "4                            2500                          37500   \n",
       "\n",
       "   Amount returned to everyone in the group  Actual Contribution  return  \n",
       "0                                       400                 1600   -6300  \n",
       "1                                       320                 1680   -4300  \n",
       "2                                       200                 1800   -1300  \n",
       "3                                        80                 1920    1700  \n",
       "4                                       400                 1600   -6300  "
      ]
     },
     "execution_count": 33,
     "metadata": {},
     "output_type": "execute_result"
    }
   ],
   "source": [
    "data[\"return\"] = data[\"Net amount recd by Bid winner\"] - total\n",
    "data.head()"
   ]
  },
  {
   "cell_type": "code",
   "execution_count": 34,
   "metadata": {},
   "outputs": [
    {
     "data": {
      "text/html": [
       "<div>\n",
       "<style scoped>\n",
       "    .dataframe tbody tr th:only-of-type {\n",
       "        vertical-align: middle;\n",
       "    }\n",
       "\n",
       "    .dataframe tbody tr th {\n",
       "        vertical-align: top;\n",
       "    }\n",
       "\n",
       "    .dataframe thead th {\n",
       "        text-align: right;\n",
       "    }\n",
       "</style>\n",
       "<table border=\"1\" class=\"dataframe\">\n",
       "  <thead>\n",
       "    <tr style=\"text-align: right;\">\n",
       "      <th></th>\n",
       "      <th>Month</th>\n",
       "      <th>Contribution</th>\n",
       "      <th>Amount won by the bidder</th>\n",
       "      <th>Chit fund organizer commission</th>\n",
       "      <th>Net amount recd by Bid winner</th>\n",
       "      <th>Amount returned to everyone in the group</th>\n",
       "      <th>Actual Contribution</th>\n",
       "      <th>return</th>\n",
       "      <th>percentage of return</th>\n",
       "    </tr>\n",
       "  </thead>\n",
       "  <tbody>\n",
       "    <tr>\n",
       "      <td>0</td>\n",
       "      <td>1</td>\n",
       "      <td>2000</td>\n",
       "      <td>40000</td>\n",
       "      <td>2500</td>\n",
       "      <td>37500</td>\n",
       "      <td>400</td>\n",
       "      <td>1600</td>\n",
       "      <td>-6300</td>\n",
       "      <td>-14.383562</td>\n",
       "    </tr>\n",
       "    <tr>\n",
       "      <td>1</td>\n",
       "      <td>2</td>\n",
       "      <td>2000</td>\n",
       "      <td>42000</td>\n",
       "      <td>2500</td>\n",
       "      <td>39500</td>\n",
       "      <td>320</td>\n",
       "      <td>1680</td>\n",
       "      <td>-4300</td>\n",
       "      <td>-9.817352</td>\n",
       "    </tr>\n",
       "    <tr>\n",
       "      <td>2</td>\n",
       "      <td>3</td>\n",
       "      <td>2000</td>\n",
       "      <td>45000</td>\n",
       "      <td>2500</td>\n",
       "      <td>42500</td>\n",
       "      <td>200</td>\n",
       "      <td>1800</td>\n",
       "      <td>-1300</td>\n",
       "      <td>-2.968037</td>\n",
       "    </tr>\n",
       "    <tr>\n",
       "      <td>3</td>\n",
       "      <td>4</td>\n",
       "      <td>2000</td>\n",
       "      <td>48000</td>\n",
       "      <td>2500</td>\n",
       "      <td>45500</td>\n",
       "      <td>80</td>\n",
       "      <td>1920</td>\n",
       "      <td>1700</td>\n",
       "      <td>3.881279</td>\n",
       "    </tr>\n",
       "    <tr>\n",
       "      <td>4</td>\n",
       "      <td>5</td>\n",
       "      <td>2000</td>\n",
       "      <td>40000</td>\n",
       "      <td>2500</td>\n",
       "      <td>37500</td>\n",
       "      <td>400</td>\n",
       "      <td>1600</td>\n",
       "      <td>-6300</td>\n",
       "      <td>-14.383562</td>\n",
       "    </tr>\n",
       "  </tbody>\n",
       "</table>\n",
       "</div>"
      ],
      "text/plain": [
       "   Month  Contribution  Amount won by the bidder  \\\n",
       "0      1          2000                     40000   \n",
       "1      2          2000                     42000   \n",
       "2      3          2000                     45000   \n",
       "3      4          2000                     48000   \n",
       "4      5          2000                     40000   \n",
       "\n",
       "   Chit fund organizer commission  Net amount recd by Bid winner  \\\n",
       "0                            2500                          37500   \n",
       "1                            2500                          39500   \n",
       "2                            2500                          42500   \n",
       "3                            2500                          45500   \n",
       "4                            2500                          37500   \n",
       "\n",
       "   Amount returned to everyone in the group  Actual Contribution  return  \\\n",
       "0                                       400                 1600   -6300   \n",
       "1                                       320                 1680   -4300   \n",
       "2                                       200                 1800   -1300   \n",
       "3                                        80                 1920    1700   \n",
       "4                                       400                 1600   -6300   \n",
       "\n",
       "   percentage of return  \n",
       "0            -14.383562  \n",
       "1             -9.817352  \n",
       "2             -2.968037  \n",
       "3              3.881279  \n",
       "4            -14.383562  "
      ]
     },
     "execution_count": 34,
     "metadata": {},
     "output_type": "execute_result"
    }
   ],
   "source": [
    "# Calculating percentage of return after every corpus\n",
    "data[\"percentage of return\"]=(data[\"return\"]/total)*100\n",
    "data.head()"
   ]
  },
  {
   "cell_type": "markdown",
   "metadata": {},
   "source": [
    "# Question1"
   ]
  },
  {
   "cell_type": "markdown",
   "metadata": {},
   "source": [
    "<font>What is the Annualized  Return of the person who bids in the last month ?<font> "
   ]
  },
  {
   "cell_type": "markdown",
   "metadata": {},
   "source": [
    "<font color=brown>Annualized return = ((1 + Absolute Rate of Return) ^ (365/no. of days)) – 1\n",
    "\n",
    "OR\n",
    "\n",
    "Annualized return = ((1 + Absolute Rate of Return) ^ (1/no. of years)) – 1\n",
    "\n",
    "OR\n",
    "\n",
    "Annualized return = ((1 + Absolute Rate of Return) ^ (12/no. of months)) – 1<font>\n"
   ]
  },
  {
   "cell_type": "code",
   "execution_count": 46,
   "metadata": {},
   "outputs": [
    {
     "data": {
      "text/plain": [
       "Month                                          25.000000\n",
       "Contribution                                 2000.000000\n",
       "Amount won by the bidder                    50000.000000\n",
       "Chit fund organizer commission               2500.000000\n",
       "Net amount recd by Bid winner               47500.000000\n",
       "Amount returned to everyone in the group        0.000000\n",
       "Actual Contribution                          2000.000000\n",
       "return                                       3700.000000\n",
       "percentage of return                            8.447489\n",
       "Name: 24, dtype: float64"
      ]
     },
     "execution_count": 46,
     "metadata": {},
     "output_type": "execute_result"
    }
   ],
   "source": [
    "# Last person who bids in st month\n",
    "\n",
    "data.iloc[24]"
   ]
  },
  {
   "cell_type": "code",
   "execution_count": 62,
   "metadata": {},
   "outputs": [],
   "source": [
    "#Formula\n",
    "q1=((((1 + (data[\"percentage of return\"][24])/100)) ** (12/25)) - 1) * 100"
   ]
  },
  {
   "cell_type": "code",
   "execution_count": 82,
   "metadata": {},
   "outputs": [
    {
     "name": "stdout",
     "output_type": "stream",
     "text": [
      "Percentage of Annualized  Return of the person who bids in the last month  3.9694\n"
     ]
    }
   ],
   "source": [
    "print(\"Percentage of Annualized  Return of the person who bids in the last month \",(round(q1,4)))"
   ]
  },
  {
   "cell_type": "markdown",
   "metadata": {},
   "source": [
    "# Question 2"
   ]
  },
  {
   "cell_type": "markdown",
   "metadata": {},
   "source": [
    "What is the Annualized Return of the person who bids in the first month ?"
   ]
  },
  {
   "cell_type": "code",
   "execution_count": 50,
   "metadata": {},
   "outputs": [
    {
     "data": {
      "text/plain": [
       "Month                                           1.000000\n",
       "Contribution                                 2000.000000\n",
       "Amount won by the bidder                    40000.000000\n",
       "Chit fund organizer commission               2500.000000\n",
       "Net amount recd by Bid winner               37500.000000\n",
       "Amount returned to everyone in the group      400.000000\n",
       "Actual Contribution                          1600.000000\n",
       "return                                      -6300.000000\n",
       "percentage of return                          -14.383562\n",
       "Name: 0, dtype: float64"
      ]
     },
     "execution_count": 50,
     "metadata": {},
     "output_type": "execute_result"
    }
   ],
   "source": [
    "# First person who bids in first month\n",
    "data.iloc[0]"
   ]
  },
  {
   "cell_type": "code",
   "execution_count": 74,
   "metadata": {},
   "outputs": [],
   "source": [
    "#formula\n",
    "q2=((((1 + (data[\"percentage of return\"][0])/100)) ** (12/25)) - 1) * 100\n"
   ]
  },
  {
   "cell_type": "code",
   "execution_count": 83,
   "metadata": {},
   "outputs": [
    {
     "name": "stdout",
     "output_type": "stream",
     "text": [
      "Percentage of Annualized  Return of the person who bids in the first month  -7.183\n"
     ]
    }
   ],
   "source": [
    "print(\"Percentage of Annualized  Return of the person who bids in the first month \",(round(q2,4)))"
   ]
  },
  {
   "cell_type": "markdown",
   "metadata": {},
   "source": [
    "# Question 3"
   ]
  },
  {
   "cell_type": "markdown",
   "metadata": {},
   "source": [
    " Write an Python script which calculates the annualized return of chit fund participant ?- Show the Return % for each month's bid winner."
   ]
  },
  {
   "cell_type": "markdown",
   "metadata": {},
   "source": [
    "# annualized return of chit fund participant "
   ]
  },
  {
   "cell_type": "code",
   "execution_count": 108,
   "metadata": {},
   "outputs": [
    {
     "name": "stdout",
     "output_type": "stream",
     "text": [
      "0    -7.183020\n",
      "1    -4.838992\n",
      "2    -1.435820\n",
      "3     1.844574\n",
      "4    -7.183020\n",
      "5    -4.838992\n",
      "6    -3.690121\n",
      "7    -2.555908\n",
      "8    -7.183020\n",
      "9    -4.838992\n",
      "10   -1.435820\n",
      "11    1.844574\n",
      "12   -7.183020\n",
      "13   -4.838992\n",
      "14   -3.690121\n",
      "15   -3.690121\n",
      "16   -6.003090\n",
      "17   -4.838992\n",
      "18   -1.435820\n",
      "19   -1.435820\n",
      "20   -2.555908\n",
      "21   -0.329355\n",
      "22    0.763961\n",
      "23    1.844574\n",
      "24    3.969357\n",
      "Name: percentage of return, dtype: float64\n"
     ]
    }
   ],
   "source": [
    "#Formula\n",
    "q=((((1 + (data[\"percentage of return\"])/100)) ** (12/25)) - 1) * 100\n",
    "print(q)"
   ]
  },
  {
   "cell_type": "markdown",
   "metadata": {},
   "source": [
    "# the Return % for each month's bid winner"
   ]
  },
  {
   "cell_type": "code",
   "execution_count": 101,
   "metadata": {},
   "outputs": [
    {
     "data": {
      "text/plain": [
       "0    -14.383562\n",
       "1     -9.817352\n",
       "2     -2.968037\n",
       "3      3.881279\n",
       "4    -14.383562\n",
       "5     -9.817352\n",
       "6     -7.534247\n",
       "7     -5.251142\n",
       "8    -14.383562\n",
       "9     -9.817352\n",
       "10    -2.968037\n",
       "11     3.881279\n",
       "12   -14.383562\n",
       "13    -9.817352\n",
       "14    -7.534247\n",
       "15    -7.534247\n",
       "16   -12.100457\n",
       "17    -9.817352\n",
       "18    -2.968037\n",
       "19    -2.968037\n",
       "20    -5.251142\n",
       "21    -0.684932\n",
       "22     1.598174\n",
       "23     3.881279\n",
       "24     8.447489\n",
       "Name: percentage of return, dtype: float64"
      ]
     },
     "execution_count": 101,
     "metadata": {},
     "output_type": "execute_result"
    }
   ],
   "source": [
    "data[\"percentage of return\"]"
   ]
  },
  {
   "cell_type": "code",
   "execution_count": null,
   "metadata": {},
   "outputs": [],
   "source": []
  }
 ],
 "metadata": {
  "kernelspec": {
   "display_name": "Python 3",
   "language": "python",
   "name": "python3"
  },
  "language_info": {
   "codemirror_mode": {
    "name": "ipython",
    "version": 3
   },
   "file_extension": ".py",
   "mimetype": "text/x-python",
   "name": "python",
   "nbconvert_exporter": "python",
   "pygments_lexer": "ipython3",
   "version": "3.6.9"
  }
 },
 "nbformat": 4,
 "nbformat_minor": 2
}
